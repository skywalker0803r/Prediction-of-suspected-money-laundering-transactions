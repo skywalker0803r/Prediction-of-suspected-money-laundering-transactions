{
  "nbformat": 4,
  "nbformat_minor": 0,
  "metadata": {
    "colab": {
      "provenance": [],
      "mount_file_id": "1dZv9zj4OWsHv-uaJNypqnB8bk-Hm_MEF",
      "authorship_tag": "ABX9TyPznIegfJcrEbdS/lJ+7se0",
      "include_colab_link": true
    },
    "kernelspec": {
      "name": "python3",
      "display_name": "Python 3"
    },
    "language_info": {
      "name": "python"
    }
  },
  "cells": [
    {
      "cell_type": "markdown",
      "metadata": {
        "id": "view-in-github",
        "colab_type": "text"
      },
      "source": [
        "<a href=\"https://colab.research.google.com/github/skywalker0803r/Prediction-of-suspected-money-laundering-transactions/blob/main/%E6%B4%97%E9%8C%A2%E9%A0%90%E6%B8%AC.ipynb\" target=\"_parent\"><img src=\"https://colab.research.google.com/assets/colab-badge.svg\" alt=\"Open In Colab\"/></a>"
      ]
    },
    {
      "cell_type": "markdown",
      "source": [
        "# Load data"
      ],
      "metadata": {
        "id": "Nq3VSEk0_2Ow"
      }
    },
    {
      "cell_type": "code",
      "execution_count": 1,
      "metadata": {
        "id": "98RAuX6Y67ld"
      },
      "outputs": [],
      "source": [
        "import pandas as pd\n",
        "import os\n",
        "os.listdir('/content/drive/MyDrive/洗錢預測')\n",
        "files = [ '/content/drive/MyDrive/洗錢預測/' + i for i in os.listdir('/content/drive/MyDrive/洗錢預測')]\n",
        "df1 = pd.read_csv(files[0])\n",
        "df2 = pd.read_csv(files[1])\n",
        "df3 = pd.read_csv(files[2])\n",
        "df4 = pd.read_csv(files[3])\n",
        "df5 = pd.read_csv(files[4])\n",
        "df6 = pd.read_csv(files[5])\n",
        "df7 = pd.read_csv(files[6])\n",
        "cust_id_merge = pd.merge(pd.merge(df4,df5,on='cust_id'),pd.merge(df6,df7,on='cust_id'),on='cust_id')\n",
        "cust_id_merge"
      ]
    },
    {
      "cell_type": "code",
      "source": [],
      "metadata": {
        "id": "ine-Hn6F9N5r"
      },
      "execution_count": null,
      "outputs": []
    },
    {
      "cell_type": "code",
      "source": [],
      "metadata": {
        "id": "gAskhkW4-W5M"
      },
      "execution_count": null,
      "outputs": []
    }
  ]
}